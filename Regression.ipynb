{
  "nbformat": 4,
  "nbformat_minor": 0,
  "metadata": {
    "colab": {
      "provenance": []
    },
    "kernelspec": {
      "name": "python3",
      "display_name": "Python 3"
    },
    "language_info": {
      "name": "python"
    }
  },
  "cells": [
    {
      "cell_type": "markdown",
      "source": [],
      "metadata": {
        "id": "kXLNq-540seX"
      }
    },
    {
      "cell_type": "markdown",
      "source": [
        "# **An example of linear regression**\n",
        "Based on http://scikit-learn.org/stable/auto_examples/linear_model/plot_ols.html\n"
      ],
      "metadata": {
        "id": "_RkCoL2602Ip"
      }
    },
    {
      "cell_type": "markdown",
      "source": [
        "# Import some needed packages"
      ],
      "metadata": {
        "id": "-bNYcYDR0bda"
      }
    },
    {
      "cell_type": "code",
      "source": [
        "import matplotlib.pyplot as plt\n",
        "import numpy as np\n",
        "from sklearn import datasets, linear_model\n",
        "from sklearn.metrics import mean_squared_error, r2_score"
      ],
      "metadata": {
        "id": "2EZDbPC109Wo"
      },
      "execution_count": 1,
      "outputs": []
    },
    {
      "cell_type": "markdown",
      "source": [
        "# Load a dataset (the diabetes dataset)"
      ],
      "metadata": {
        "id": "NRFSCt8s1GB-"
      }
    },
    {
      "cell_type": "code",
      "source": [
        "diabetes = datasets.load_diabetes()\n",
        "print(diabetes)"
      ],
      "metadata": {
        "colab": {
          "base_uri": "https://localhost:8080/"
        },
        "id": "zy6BiU4r1BIK",
        "outputId": "55ec2107-762f-4c1f-8f1e-77beb3c541c1"
      },
      "execution_count": 2,
      "outputs": [
        {
          "output_type": "stream",
          "name": "stdout",
          "text": [
            "{'data': array([[ 0.03807591,  0.05068012,  0.06169621, ..., -0.00259226,\n",
            "         0.01990749, -0.01764613],\n",
            "       [-0.00188202, -0.04464164, -0.05147406, ..., -0.03949338,\n",
            "        -0.06833155, -0.09220405],\n",
            "       [ 0.08529891,  0.05068012,  0.04445121, ..., -0.00259226,\n",
            "         0.00286131, -0.02593034],\n",
            "       ...,\n",
            "       [ 0.04170844,  0.05068012, -0.01590626, ..., -0.01107952,\n",
            "        -0.04688253,  0.01549073],\n",
            "       [-0.04547248, -0.04464164,  0.03906215, ...,  0.02655962,\n",
            "         0.04452873, -0.02593034],\n",
            "       [-0.04547248, -0.04464164, -0.0730303 , ..., -0.03949338,\n",
            "        -0.00422151,  0.00306441]]), 'target': array([151.,  75., 141., 206., 135.,  97., 138.,  63., 110., 310., 101.,\n",
            "        69., 179., 185., 118., 171., 166., 144.,  97., 168.,  68.,  49.,\n",
            "        68., 245., 184., 202., 137.,  85., 131., 283., 129.,  59., 341.,\n",
            "        87.,  65., 102., 265., 276., 252.,  90., 100.,  55.,  61.,  92.,\n",
            "       259.,  53., 190., 142.,  75., 142., 155., 225.,  59., 104., 182.,\n",
            "       128.,  52.,  37., 170., 170.,  61., 144.,  52., 128.,  71., 163.,\n",
            "       150.,  97., 160., 178.,  48., 270., 202., 111.,  85.,  42., 170.,\n",
            "       200., 252., 113., 143.,  51.,  52., 210.,  65., 141.,  55., 134.,\n",
            "        42., 111.,  98., 164.,  48.,  96.,  90., 162., 150., 279.,  92.,\n",
            "        83., 128., 102., 302., 198.,  95.,  53., 134., 144., 232.,  81.,\n",
            "       104.,  59., 246., 297., 258., 229., 275., 281., 179., 200., 200.,\n",
            "       173., 180.,  84., 121., 161.,  99., 109., 115., 268., 274., 158.,\n",
            "       107.,  83., 103., 272.,  85., 280., 336., 281., 118., 317., 235.,\n",
            "        60., 174., 259., 178., 128.,  96., 126., 288.,  88., 292.,  71.,\n",
            "       197., 186.,  25.,  84.,  96., 195.,  53., 217., 172., 131., 214.,\n",
            "        59.,  70., 220., 268., 152.,  47.,  74., 295., 101., 151., 127.,\n",
            "       237., 225.,  81., 151., 107.,  64., 138., 185., 265., 101., 137.,\n",
            "       143., 141.,  79., 292., 178.,  91., 116.,  86., 122.,  72., 129.,\n",
            "       142.,  90., 158.,  39., 196., 222., 277.,  99., 196., 202., 155.,\n",
            "        77., 191.,  70.,  73.,  49.,  65., 263., 248., 296., 214., 185.,\n",
            "        78.,  93., 252., 150.,  77., 208.,  77., 108., 160.,  53., 220.,\n",
            "       154., 259.,  90., 246., 124.,  67.,  72., 257., 262., 275., 177.,\n",
            "        71.,  47., 187., 125.,  78.,  51., 258., 215., 303., 243.,  91.,\n",
            "       150., 310., 153., 346.,  63.,  89.,  50.,  39., 103., 308., 116.,\n",
            "       145.,  74.,  45., 115., 264.,  87., 202., 127., 182., 241.,  66.,\n",
            "        94., 283.,  64., 102., 200., 265.,  94., 230., 181., 156., 233.,\n",
            "        60., 219.,  80.,  68., 332., 248.,  84., 200.,  55.,  85.,  89.,\n",
            "        31., 129.,  83., 275.,  65., 198., 236., 253., 124.,  44., 172.,\n",
            "       114., 142., 109., 180., 144., 163., 147.,  97., 220., 190., 109.,\n",
            "       191., 122., 230., 242., 248., 249., 192., 131., 237.,  78., 135.,\n",
            "       244., 199., 270., 164.,  72.,  96., 306.,  91., 214.,  95., 216.,\n",
            "       263., 178., 113., 200., 139., 139.,  88., 148.,  88., 243.,  71.,\n",
            "        77., 109., 272.,  60.,  54., 221.,  90., 311., 281., 182., 321.,\n",
            "        58., 262., 206., 233., 242., 123., 167.,  63., 197.,  71., 168.,\n",
            "       140., 217., 121., 235., 245.,  40.,  52., 104., 132.,  88.,  69.,\n",
            "       219.,  72., 201., 110.,  51., 277.,  63., 118.,  69., 273., 258.,\n",
            "        43., 198., 242., 232., 175.,  93., 168., 275., 293., 281.,  72.,\n",
            "       140., 189., 181., 209., 136., 261., 113., 131., 174., 257.,  55.,\n",
            "        84.,  42., 146., 212., 233.,  91., 111., 152., 120.,  67., 310.,\n",
            "        94., 183.,  66., 173.,  72.,  49.,  64.,  48., 178., 104., 132.,\n",
            "       220.,  57.]), 'frame': None, 'DESCR': '.. _diabetes_dataset:\\n\\nDiabetes dataset\\n----------------\\n\\nTen baseline variables, age, sex, body mass index, average blood\\npressure, and six blood serum measurements were obtained for each of n =\\n442 diabetes patients, as well as the response of interest, a\\nquantitative measure of disease progression one year after baseline.\\n\\n**Data Set Characteristics:**\\n\\n  :Number of Instances: 442\\n\\n  :Number of Attributes: First 10 columns are numeric predictive values\\n\\n  :Target: Column 11 is a quantitative measure of disease progression one year after baseline\\n\\n  :Attribute Information:\\n      - age     age in years\\n      - sex\\n      - bmi     body mass index\\n      - bp      average blood pressure\\n      - s1      tc, total serum cholesterol\\n      - s2      ldl, low-density lipoproteins\\n      - s3      hdl, high-density lipoproteins\\n      - s4      tch, total cholesterol / HDL\\n      - s5      ltg, possibly log of serum triglycerides level\\n      - s6      glu, blood sugar level\\n\\nNote: Each of these 10 feature variables have been mean centered and scaled by the standard deviation times the square root of `n_samples` (i.e. the sum of squares of each column totals 1).\\n\\nSource URL:\\nhttps://www4.stat.ncsu.edu/~boos/var.select/diabetes.html\\n\\nFor more information see:\\nBradley Efron, Trevor Hastie, Iain Johnstone and Robert Tibshirani (2004) \"Least Angle Regression,\" Annals of Statistics (with discussion), 407-499.\\n(https://web.stanford.edu/~hastie/Papers/LARS/LeastAngle_2002.pdf)\\n', 'feature_names': ['age', 'sex', 'bmi', 'bp', 's1', 's2', 's3', 's4', 's5', 's6'], 'data_filename': 'diabetes_data_raw.csv.gz', 'target_filename': 'diabetes_target.csv.gz', 'data_module': 'sklearn.datasets.data'}\n"
          ]
        }
      ]
    },
    {
      "cell_type": "markdown",
      "source": [
        "# Select only one feature"
      ],
      "metadata": {
        "id": "l7Vc9OBy1VAJ"
      }
    },
    {
      "cell_type": "code",
      "source": [
        "diabetes_X = diabetes.data[:, np.newaxis, 2]\n",
        "print(diabetes_X)"
      ],
      "metadata": {
        "colab": {
          "base_uri": "https://localhost:8080/"
        },
        "id": "sW1jDiMt1Xmw",
        "outputId": "4295543d-f663-4e20-c036-619e370b2e8d"
      },
      "execution_count": 3,
      "outputs": [
        {
          "output_type": "stream",
          "name": "stdout",
          "text": [
            "[[ 0.06169621]\n",
            " [-0.05147406]\n",
            " [ 0.04445121]\n",
            " [-0.01159501]\n",
            " [-0.03638469]\n",
            " [-0.04069594]\n",
            " [-0.04716281]\n",
            " [-0.00189471]\n",
            " [ 0.06169621]\n",
            " [ 0.03906215]\n",
            " [-0.08380842]\n",
            " [ 0.01750591]\n",
            " [-0.02884001]\n",
            " [-0.00189471]\n",
            " [-0.02560657]\n",
            " [-0.01806189]\n",
            " [ 0.04229559]\n",
            " [ 0.01211685]\n",
            " [-0.0105172 ]\n",
            " [-0.01806189]\n",
            " [-0.05686312]\n",
            " [-0.02237314]\n",
            " [-0.00405033]\n",
            " [ 0.06061839]\n",
            " [ 0.03582872]\n",
            " [-0.01267283]\n",
            " [-0.07734155]\n",
            " [ 0.05954058]\n",
            " [-0.02129532]\n",
            " [-0.00620595]\n",
            " [ 0.04445121]\n",
            " [-0.06548562]\n",
            " [ 0.12528712]\n",
            " [-0.05039625]\n",
            " [-0.06332999]\n",
            " [-0.03099563]\n",
            " [ 0.02289497]\n",
            " [ 0.01103904]\n",
            " [ 0.07139652]\n",
            " [ 0.01427248]\n",
            " [-0.00836158]\n",
            " [-0.06764124]\n",
            " [-0.0105172 ]\n",
            " [-0.02345095]\n",
            " [ 0.06816308]\n",
            " [-0.03530688]\n",
            " [-0.01159501]\n",
            " [-0.0730303 ]\n",
            " [-0.04177375]\n",
            " [ 0.01427248]\n",
            " [-0.00728377]\n",
            " [ 0.0164281 ]\n",
            " [-0.00943939]\n",
            " [-0.01590626]\n",
            " [ 0.0250506 ]\n",
            " [-0.04931844]\n",
            " [ 0.04121778]\n",
            " [-0.06332999]\n",
            " [-0.06440781]\n",
            " [-0.02560657]\n",
            " [-0.00405033]\n",
            " [ 0.00457217]\n",
            " [-0.00728377]\n",
            " [-0.0374625 ]\n",
            " [-0.02560657]\n",
            " [-0.02452876]\n",
            " [-0.01806189]\n",
            " [-0.01482845]\n",
            " [-0.02991782]\n",
            " [-0.046085  ]\n",
            " [-0.06979687]\n",
            " [ 0.03367309]\n",
            " [-0.00405033]\n",
            " [-0.02021751]\n",
            " [ 0.00241654]\n",
            " [-0.03099563]\n",
            " [ 0.02828403]\n",
            " [-0.03638469]\n",
            " [-0.05794093]\n",
            " [-0.0374625 ]\n",
            " [ 0.01211685]\n",
            " [-0.02237314]\n",
            " [-0.03530688]\n",
            " [ 0.00996123]\n",
            " [-0.03961813]\n",
            " [ 0.07139652]\n",
            " [-0.07518593]\n",
            " [-0.00620595]\n",
            " [-0.04069594]\n",
            " [-0.04824063]\n",
            " [-0.02560657]\n",
            " [ 0.0519959 ]\n",
            " [ 0.00457217]\n",
            " [-0.06440781]\n",
            " [-0.01698407]\n",
            " [-0.05794093]\n",
            " [ 0.00996123]\n",
            " [ 0.08864151]\n",
            " [-0.00512814]\n",
            " [-0.06440781]\n",
            " [ 0.01750591]\n",
            " [-0.04500719]\n",
            " [ 0.02828403]\n",
            " [ 0.04121778]\n",
            " [ 0.06492964]\n",
            " [-0.03207344]\n",
            " [-0.07626374]\n",
            " [ 0.04984027]\n",
            " [ 0.04552903]\n",
            " [-0.00943939]\n",
            " [-0.03207344]\n",
            " [ 0.00457217]\n",
            " [ 0.02073935]\n",
            " [ 0.01427248]\n",
            " [ 0.11019775]\n",
            " [ 0.00133873]\n",
            " [ 0.05846277]\n",
            " [-0.02129532]\n",
            " [-0.0105172 ]\n",
            " [-0.04716281]\n",
            " [ 0.00457217]\n",
            " [ 0.01750591]\n",
            " [ 0.08109682]\n",
            " [ 0.0347509 ]\n",
            " [ 0.02397278]\n",
            " [-0.00836158]\n",
            " [-0.06117437]\n",
            " [-0.00189471]\n",
            " [-0.06225218]\n",
            " [ 0.0164281 ]\n",
            " [ 0.09618619]\n",
            " [-0.06979687]\n",
            " [-0.02129532]\n",
            " [-0.05362969]\n",
            " [ 0.0433734 ]\n",
            " [ 0.05630715]\n",
            " [-0.0816528 ]\n",
            " [ 0.04984027]\n",
            " [ 0.11127556]\n",
            " [ 0.06169621]\n",
            " [ 0.01427248]\n",
            " [ 0.04768465]\n",
            " [ 0.01211685]\n",
            " [ 0.00564998]\n",
            " [ 0.04660684]\n",
            " [ 0.12852056]\n",
            " [ 0.05954058]\n",
            " [ 0.09295276]\n",
            " [ 0.01535029]\n",
            " [-0.00512814]\n",
            " [ 0.0703187 ]\n",
            " [-0.00405033]\n",
            " [-0.00081689]\n",
            " [-0.04392938]\n",
            " [ 0.02073935]\n",
            " [ 0.06061839]\n",
            " [-0.0105172 ]\n",
            " [-0.03315126]\n",
            " [-0.06548562]\n",
            " [ 0.0433734 ]\n",
            " [-0.06225218]\n",
            " [ 0.06385183]\n",
            " [ 0.03043966]\n",
            " [ 0.07247433]\n",
            " [-0.0191397 ]\n",
            " [-0.06656343]\n",
            " [-0.06009656]\n",
            " [ 0.06924089]\n",
            " [ 0.05954058]\n",
            " [-0.02668438]\n",
            " [-0.02021751]\n",
            " [-0.046085  ]\n",
            " [ 0.07139652]\n",
            " [-0.07949718]\n",
            " [ 0.00996123]\n",
            " [-0.03854032]\n",
            " [ 0.01966154]\n",
            " [ 0.02720622]\n",
            " [-0.00836158]\n",
            " [-0.01590626]\n",
            " [ 0.00457217]\n",
            " [-0.04285156]\n",
            " [ 0.00564998]\n",
            " [-0.03530688]\n",
            " [ 0.02397278]\n",
            " [-0.01806189]\n",
            " [ 0.04229559]\n",
            " [-0.0547075 ]\n",
            " [-0.00297252]\n",
            " [-0.06656343]\n",
            " [-0.01267283]\n",
            " [-0.04177375]\n",
            " [-0.03099563]\n",
            " [-0.00512814]\n",
            " [-0.05901875]\n",
            " [ 0.0250506 ]\n",
            " [-0.046085  ]\n",
            " [ 0.00349435]\n",
            " [ 0.05415152]\n",
            " [-0.04500719]\n",
            " [-0.05794093]\n",
            " [-0.05578531]\n",
            " [ 0.00133873]\n",
            " [ 0.03043966]\n",
            " [ 0.00672779]\n",
            " [ 0.04660684]\n",
            " [ 0.02612841]\n",
            " [ 0.04552903]\n",
            " [ 0.04013997]\n",
            " [-0.01806189]\n",
            " [ 0.01427248]\n",
            " [ 0.03690653]\n",
            " [ 0.00349435]\n",
            " [-0.07087468]\n",
            " [-0.03315126]\n",
            " [ 0.09403057]\n",
            " [ 0.03582872]\n",
            " [ 0.03151747]\n",
            " [-0.06548562]\n",
            " [-0.04177375]\n",
            " [-0.03961813]\n",
            " [-0.03854032]\n",
            " [-0.02560657]\n",
            " [-0.02345095]\n",
            " [-0.06656343]\n",
            " [ 0.03259528]\n",
            " [-0.046085  ]\n",
            " [-0.02991782]\n",
            " [-0.01267283]\n",
            " [-0.01590626]\n",
            " [ 0.07139652]\n",
            " [-0.03099563]\n",
            " [ 0.00026092]\n",
            " [ 0.03690653]\n",
            " [ 0.03906215]\n",
            " [-0.01482845]\n",
            " [ 0.00672779]\n",
            " [-0.06871905]\n",
            " [-0.00943939]\n",
            " [ 0.01966154]\n",
            " [ 0.07462995]\n",
            " [-0.00836158]\n",
            " [-0.02345095]\n",
            " [-0.046085  ]\n",
            " [ 0.05415152]\n",
            " [-0.03530688]\n",
            " [-0.03207344]\n",
            " [-0.0816528 ]\n",
            " [ 0.04768465]\n",
            " [ 0.06061839]\n",
            " [ 0.05630715]\n",
            " [ 0.09834182]\n",
            " [ 0.05954058]\n",
            " [ 0.03367309]\n",
            " [ 0.05630715]\n",
            " [-0.06548562]\n",
            " [ 0.16085492]\n",
            " [-0.05578531]\n",
            " [-0.02452876]\n",
            " [-0.03638469]\n",
            " [-0.00836158]\n",
            " [-0.04177375]\n",
            " [ 0.12744274]\n",
            " [-0.07734155]\n",
            " [ 0.02828403]\n",
            " [-0.02560657]\n",
            " [-0.06225218]\n",
            " [-0.00081689]\n",
            " [ 0.08864151]\n",
            " [-0.03207344]\n",
            " [ 0.03043966]\n",
            " [ 0.00888341]\n",
            " [ 0.00672779]\n",
            " [-0.02021751]\n",
            " [-0.02452876]\n",
            " [-0.01159501]\n",
            " [ 0.02612841]\n",
            " [-0.05901875]\n",
            " [-0.03638469]\n",
            " [-0.02452876]\n",
            " [ 0.01858372]\n",
            " [-0.0902753 ]\n",
            " [-0.00512814]\n",
            " [-0.05255187]\n",
            " [-0.02237314]\n",
            " [-0.02021751]\n",
            " [-0.0547075 ]\n",
            " [-0.00620595]\n",
            " [-0.01698407]\n",
            " [ 0.05522933]\n",
            " [ 0.07678558]\n",
            " [ 0.01858372]\n",
            " [-0.02237314]\n",
            " [ 0.09295276]\n",
            " [-0.03099563]\n",
            " [ 0.03906215]\n",
            " [-0.06117437]\n",
            " [-0.00836158]\n",
            " [-0.0374625 ]\n",
            " [-0.01375064]\n",
            " [ 0.07355214]\n",
            " [-0.02452876]\n",
            " [ 0.03367309]\n",
            " [ 0.0347509 ]\n",
            " [-0.03854032]\n",
            " [-0.03961813]\n",
            " [-0.00189471]\n",
            " [-0.03099563]\n",
            " [-0.046085  ]\n",
            " [ 0.00133873]\n",
            " [ 0.06492964]\n",
            " [ 0.04013997]\n",
            " [-0.02345095]\n",
            " [ 0.05307371]\n",
            " [ 0.04013997]\n",
            " [-0.02021751]\n",
            " [ 0.01427248]\n",
            " [-0.03422907]\n",
            " [ 0.00672779]\n",
            " [ 0.00457217]\n",
            " [ 0.03043966]\n",
            " [ 0.0519959 ]\n",
            " [ 0.06169621]\n",
            " [-0.00728377]\n",
            " [ 0.00564998]\n",
            " [ 0.05415152]\n",
            " [-0.00836158]\n",
            " [ 0.114509  ]\n",
            " [ 0.06708527]\n",
            " [-0.05578531]\n",
            " [ 0.03043966]\n",
            " [-0.02560657]\n",
            " [ 0.10480869]\n",
            " [-0.00620595]\n",
            " [-0.04716281]\n",
            " [-0.04824063]\n",
            " [ 0.08540807]\n",
            " [-0.01267283]\n",
            " [-0.03315126]\n",
            " [-0.00728377]\n",
            " [-0.01375064]\n",
            " [ 0.05954058]\n",
            " [ 0.02181716]\n",
            " [ 0.01858372]\n",
            " [-0.01159501]\n",
            " [-0.00297252]\n",
            " [ 0.01750591]\n",
            " [-0.02991782]\n",
            " [-0.02021751]\n",
            " [-0.05794093]\n",
            " [ 0.06061839]\n",
            " [-0.04069594]\n",
            " [-0.07195249]\n",
            " [-0.05578531]\n",
            " [ 0.04552903]\n",
            " [-0.00943939]\n",
            " [-0.03315126]\n",
            " [ 0.04984027]\n",
            " [-0.08488624]\n",
            " [ 0.00564998]\n",
            " [ 0.02073935]\n",
            " [-0.00728377]\n",
            " [ 0.10480869]\n",
            " [-0.02452876]\n",
            " [-0.00620595]\n",
            " [-0.03854032]\n",
            " [ 0.13714305]\n",
            " [ 0.17055523]\n",
            " [ 0.00241654]\n",
            " [ 0.03798434]\n",
            " [-0.05794093]\n",
            " [-0.00943939]\n",
            " [-0.02345095]\n",
            " [-0.0105172 ]\n",
            " [-0.03422907]\n",
            " [-0.00297252]\n",
            " [ 0.06816308]\n",
            " [ 0.00996123]\n",
            " [ 0.00241654]\n",
            " [-0.03854032]\n",
            " [ 0.02612841]\n",
            " [-0.08919748]\n",
            " [ 0.06061839]\n",
            " [-0.02884001]\n",
            " [-0.02991782]\n",
            " [-0.0191397 ]\n",
            " [-0.04069594]\n",
            " [ 0.01535029]\n",
            " [-0.02452876]\n",
            " [ 0.00133873]\n",
            " [ 0.06924089]\n",
            " [-0.06979687]\n",
            " [-0.02991782]\n",
            " [-0.046085  ]\n",
            " [ 0.01858372]\n",
            " [ 0.00133873]\n",
            " [-0.03099563]\n",
            " [-0.00405033]\n",
            " [ 0.01535029]\n",
            " [ 0.02289497]\n",
            " [ 0.04552903]\n",
            " [-0.04500719]\n",
            " [-0.03315126]\n",
            " [ 0.097264  ]\n",
            " [ 0.05415152]\n",
            " [ 0.12313149]\n",
            " [-0.08057499]\n",
            " [ 0.09295276]\n",
            " [-0.05039625]\n",
            " [-0.01159501]\n",
            " [-0.0277622 ]\n",
            " [ 0.05846277]\n",
            " [ 0.08540807]\n",
            " [-0.00081689]\n",
            " [ 0.00672779]\n",
            " [ 0.00888341]\n",
            " [ 0.08001901]\n",
            " [ 0.07139652]\n",
            " [-0.02452876]\n",
            " [-0.0547075 ]\n",
            " [-0.03638469]\n",
            " [ 0.0164281 ]\n",
            " [ 0.07786339]\n",
            " [-0.03961813]\n",
            " [ 0.01103904]\n",
            " [-0.04069594]\n",
            " [-0.03422907]\n",
            " [ 0.00564998]\n",
            " [ 0.08864151]\n",
            " [-0.03315126]\n",
            " [-0.05686312]\n",
            " [-0.03099563]\n",
            " [ 0.05522933]\n",
            " [-0.06009656]\n",
            " [ 0.00133873]\n",
            " [-0.02345095]\n",
            " [-0.07410811]\n",
            " [ 0.01966154]\n",
            " [-0.01590626]\n",
            " [-0.01590626]\n",
            " [ 0.03906215]\n",
            " [-0.0730303 ]]\n"
          ]
        }
      ]
    },
    {
      "cell_type": "markdown",
      "source": [
        "# Plot the dataset\n"
      ],
      "metadata": {
        "id": "DtTtqfR81pcp"
      }
    },
    {
      "cell_type": "code",
      "source": [
        "plt.scatter(diabetes_X, diabetes.target,  color='black')\n",
        "plt.show()\n"
      ],
      "metadata": {
        "colab": {
          "base_uri": "https://localhost:8080/",
          "height": 430
        },
        "id": "NZ2c8-E01vPZ",
        "outputId": "ea4b5c05-5007-4c66-9242-8ec4a907ed4d"
      },
      "execution_count": 4,
      "outputs": [
        {
          "output_type": "display_data",
          "data": {
            "text/plain": [
              "<Figure size 640x480 with 1 Axes>"
            ],
            "image/png": "[encoded data removed]"
          },
          "metadata": {}
        }
      ]
    },
    {
      "cell_type": "markdown",
      "source": [
        "# Split the data into training/testing sets"
      ],
      "metadata": {
        "id": "1G9P_1In2sv6"
      }
    },
    {
      "cell_type": "code",
      "source": [
        "diabetes_X_train = diabetes_X[:-20]\n",
        "diabetes_X_test = diabetes_X[-20:]\n",
        "diabetes_y_train = diabetes.target[:-20]\n",
        "diabetes_y_test = diabetes.target[-20:]\n",
        "print(diabetes_X_test)"
      ],
      "metadata": {
        "colab": {
          "base_uri": "https://localhost:8080/"
        },
        "id": "yA5GB3AA2qgx",
        "outputId": "1e3a9c2e-ed94-494d-eb0b-0c4e9ea7f707"
      },
      "execution_count": 8,
      "outputs": [
        {
          "output_type": "stream",
          "name": "stdout",
          "text": [
            "[[ 0.07786339]\n",
            " [-0.03961813]\n",
            " [ 0.01103904]\n",
            " [-0.04069594]\n",
            " [-0.03422907]\n",
            " [ 0.00564998]\n",
            " [ 0.08864151]\n",
            " [-0.03315126]\n",
            " [-0.05686312]\n",
            " [-0.03099563]\n",
            " [ 0.05522933]\n",
            " [-0.06009656]\n",
            " [ 0.00133873]\n",
            " [-0.02345095]\n",
            " [-0.07410811]\n",
            " [ 0.01966154]\n",
            " [-0.01590626]\n",
            " [-0.01590626]\n",
            " [ 0.03906215]\n",
            " [-0.0730303 ]]\n"
          ]
        }
      ]
    },
    {
      "cell_type": "markdown",
      "source": [
        "# Create a linear regression model"
      ],
      "metadata": {
        "id": "XT0JLK3M24mK"
      }
    },
    {
      "cell_type": "code",
      "source": [
        "regr = linear_model.LinearRegression()"
      ],
      "metadata": {
        "id": "EYMOvsSi3LUs"
      },
      "execution_count": 10,
      "outputs": []
    },
    {
      "cell_type": "markdown",
      "source": [
        "# Train the model using the training sets"
      ],
      "metadata": {
        "id": "YMIhdfMV3MuT"
      }
    },
    {
      "cell_type": "code",
      "source": [
        "regr.fit(diabetes_X_train, diabetes_y_train)"
      ],
      "metadata": {
        "colab": {
          "base_uri": "https://localhost:8080/",
          "height": 74
        },
        "id": "f1GGQ7763RlW",
        "outputId": "7e6e9444-8e3f-47f5-85f9-c386e9b3f09d"
      },
      "execution_count": 11,
      "outputs": [
        {
          "output_type": "execute_result",
          "data": {
            "text/plain": [
              "LinearRegression()"
            ],
            "text/html": [
              "<style>#sk-container-id-2 {color: black;background-color: white;}#sk-container-id-2 pre{padding: 0;}#sk-container-id-2 div.sk-toggleable {background-color: white;}#sk-container-id-2 label.sk-toggleable__label {cursor: pointer;display: block;width: 100%;margin-bottom: 0;padding: 0.3em;box-sizing: border-box;text-align: center;}#sk-container-id-2 label.sk-toggleable__label-arrow:before {content: \"▸\";float: left;margin-right: 0.25em;color: #696969;}#sk-container-id-2 label.sk-toggleable__label-arrow:hover:before {color: black;}#sk-container-id-2 div.sk-estimator:hover label.sk-toggleable__label-arrow:before {color: black;}#sk-container-id-2 div.sk-toggleable__content {max-height: 0;max-width: 0;overflow: hidden;text-align: left;background-color: #f0f8ff;}#sk-container-id-2 div.sk-toggleable__content pre {margin: 0.2em;color: black;border-radius: 0.25em;background-color: #f0f8ff;}#sk-container-id-2 input.sk-toggleable__control:checked~div.sk-toggleable__content {max-height: 200px;max-width: 100%;overflow: auto;}#sk-container-id-2 input.sk-toggleable__control:checked~label.sk-toggleable__label-arrow:before {content: \"▾\";}#sk-container-id-2 div.sk-estimator input.sk-toggleable__control:checked~label.sk-toggleable__label {background-color: #d4ebff;}#sk-container-id-2 div.sk-label input.sk-toggleable__control:checked~label.sk-toggleable__label {background-color: #d4ebff;}#sk-container-id-2 input.sk-hidden--visually {border: 0;clip: rect(1px 1px 1px 1px);clip: rect(1px, 1px, 1px, 1px);height: 1px;margin: -1px;overflow: hidden;padding: 0;position: absolute;width: 1px;}#sk-container-id-2 div.sk-estimator {font-family: monospace;background-color: #f0f8ff;border: 1px dotted black;border-radius: 0.25em;box-sizing: border-box;margin-bottom: 0.5em;}#sk-container-id-2 div.sk-estimator:hover {background-color: #d4ebff;}#sk-container-id-2 div.sk-parallel-item::after {content: \"\";width: 100%;border-bottom: 1px solid gray;flex-grow: 1;}#sk-container-id-2 div.sk-label:hover label.sk-toggleable__label {background-color: #d4ebff;}#sk-container-id-2 div.sk-serial::before {content: \"\";position: absolute;border-left: 1px solid gray;box-sizing: border-box;top: 0;bottom: 0;left: 50%;z-index: 0;}#sk-container-id-2 div.sk-serial {display: flex;flex-direction: column;align-items: center;background-color: white;padding-right: 0.2em;padding-left: 0.2em;position: relative;}#sk-container-id-2 div.sk-item {position: relative;z-index: 1;}#sk-container-id-2 div.sk-parallel {display: flex;align-items: stretch;justify-content: center;background-color: white;position: relative;}#sk-container-id-2 div.sk-item::before, #sk-container-id-2 div.sk-parallel-item::before {content: \"\";position: absolute;border-left: 1px solid gray;box-sizing: border-box;top: 0;bottom: 0;left: 50%;z-index: -1;}#sk-container-id-2 div.sk-parallel-item {display: flex;flex-direction: column;z-index: 1;position: relative;background-color: white;}#sk-container-id-2 div.sk-parallel-item:first-child::after {align-self: flex-end;width: 50%;}#sk-container-id-2 div.sk-parallel-item:last-child::after {align-self: flex-start;width: 50%;}#sk-container-id-2 div.sk-parallel-item:only-child::after {width: 0;}#sk-container-id-2 div.sk-dashed-wrapped {border: 1px dashed gray;margin: 0 0.4em 0.5em 0.4em;box-sizing: border-box;padding-bottom: 0.4em;background-color: white;}#sk-container-id-2 div.sk-label label {font-family: monospace;font-weight: bold;display: inline-block;line-height: 1.2em;}#sk-container-id-2 div.sk-label-container {text-align: center;}#sk-container-id-2 div.sk-container {/* jupyter's `normalize.less` sets `[hidden] { display: none; }` but bootstrap.min.css set `[hidden] { display: none !important; }` so we also need the `!important` here to be able to override the default hidden behavior on the sphinx rendered scikit-learn.org. See: https://github.com/scikit-learn/scikit-learn/issues/21755 */display: inline-block !important;position: relative;}#sk-container-id-2 div.sk-text-repr-fallback {display: none;}</style><div id=\"sk-container-id-2\" class=\"sk-top-container\"><div class=\"sk-text-repr-fallback\"><pre>LinearRegression()</pre><b>In a Jupyter environment, please rerun this cell to show the HTML representation or trust the notebook. <br />On GitHub, the HTML representation is unable to render, please try loading this page with nbviewer.org.</b></div><div class=\"sk-container\" hidden><div class=\"sk-item\"><div class=\"sk-estimator sk-toggleable\"><input class=\"sk-toggleable__control sk-hidden--visually\" id=\"sk-estimator-id-2\" type=\"checkbox\" checked><label for=\"sk-estimator-id-2\" class=\"sk-toggleable__label sk-toggleable__label-arrow\">LinearRegression</label><div class=\"sk-toggleable__content\"><pre>LinearRegression()</pre></div></div></div></div></div>"
            ]
          },
          "metadata": {},
          "execution_count": 11
        }
      ]
    },
    {
      "cell_type": "markdown",
      "source": [
        "# Make predictions using the testing set\n"
      ],
      "metadata": {
        "id": "35xdDyHC3fzP"
      }
    },
    {
      "cell_type": "code",
      "source": [
        "diabetes_y_pred = regr.predict(diabetes_X_test)\n"
      ],
      "metadata": {
        "id": "Z1ZTyhIW3ik9"
      },
      "execution_count": 12,
      "outputs": []
    },
    {
      "cell_type": "markdown",
      "source": [
        "# Coefficients & mean squared error:"
      ],
      "metadata": {
        "id": "gXuSd5MI4XCh"
      }
    },
    {
      "cell_type": "code",
      "source": [
        "print('Coefficients: \\n', regr.coef_)\n",
        "# The mean squared error\n",
        "print(\"Mean squared error: %.2f\"\n",
        "      % mean_squared_error(diabetes_y_test, diabetes_y_pred))\n",
        "# Explained variance score: 1 is perfect prediction\n",
        "print('Variance score: %.2f' % r2_score(diabetes_y_test, diabetes_y_pred))"
      ],
      "metadata": {
        "colab": {
          "base_uri": "https://localhost:8080/"
        },
        "id": "iDpJlksS4hoe",
        "outputId": "8ea676b5-a9b6-416d-dfbf-409033f15195"
      },
      "execution_count": 13,
      "outputs": [
        {
          "output_type": "stream",
          "name": "stdout",
          "text": [
            "Coefficients: \n",
            " [938.23786125]\n",
            "Mean squared error: 2548.07\n",
            "Variance score: 0.47\n"
          ]
        }
      ]
    },
    {
      "cell_type": "markdown",
      "source": [
        "# Plot outputs"
      ],
      "metadata": {
        "id": "cQMyI2-A4lIK"
      }
    },
    {
      "cell_type": "code",
      "source": [
        "plt.scatter(diabetes_X_test, diabetes_y_test,  color='black')\n",
        "plt.plot(diabetes_X_test, diabetes_y_pred, color='blue', linewidth=3)\n",
        "\n",
        "#plt.xticks(())\n",
        "#plt.yticks(())\n",
        "\n",
        "plt.show()"
      ],
      "metadata": {
        "colab": {
          "base_uri": "https://localhost:8080/",
          "height": 430
        },
        "id": "Wvl8WbbL4ojX",
        "outputId": "39712c43-12da-49a7-8ada-37cf018126e9"
      },
      "execution_count": 14,
      "outputs": [
        {
          "output_type": "display_data",
          "data": {
            "text/plain": [
              "<Figure size 640x480 with 1 Axes>"
            ],
            "image/png": "[encoded data removed]"
          },
          "metadata": {}
        }
      ]
    },
    {
      "cell_type": "code",
      "source": [
        "plt.scatter(diabetes_X, diabetes.target,  color='black')\n",
        "plt.plot(diabetes_X_test, diabetes_y_pred, color='blue', linewidth=3)\n",
        "plt.show()"
      ],
      "metadata": {
        "colab": {
          "base_uri": "https://localhost:8080/",
          "height": 430
        },
        "id": "zvRPNHVz4wUa",
        "outputId": "bad2ad04-f462-4103-9c78-510400fb747f"
      },
      "execution_count": 15,
      "outputs": [
        {
          "output_type": "display_data",
          "data": {
            "text/plain": [
              "<Figure size 640x480 with 1 Axes>"
            ],
            "image/png": "[encoded data removed]"
          },
          "metadata": {}
        }
      ]
    }
  ]
}